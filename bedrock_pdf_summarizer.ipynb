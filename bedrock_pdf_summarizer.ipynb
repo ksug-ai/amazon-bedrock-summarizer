{
 "cells": [
  {
   "cell_type": "markdown",
   "id": "e507fcc7",
   "metadata": {},
   "source": [
    "# 📄 Amazon Bedrock + LangChain PDF Summarizer Demo\n",
    "This notebook demonstrates how to summarize a PDF file using Amazon Bedrock with Claude and LangChain."
   ]
  },
  {
   "cell_type": "code",
   "execution_count": 4,
   "id": "1c1e31ad",
   "metadata": {},
   "outputs": [],
   "source": [
    "import boto3\n",
    "from langchain.llms.bedrock import Bedrock\n",
    "from langchain.chains.summarize import load_summarize_chain\n",
    "from langchain.prompts import PromptTemplate\n",
    "from langchain.docstore.document import Document\n",
    "import PyPDF2"
   ]
  },
  {
   "cell_type": "code",
   "execution_count": 5,
   "id": "758e22af",
   "metadata": {},
   "outputs": [
    {
     "name": "stderr",
     "output_type": "stream",
     "text": [
      "/var/folders/dl/b4tc6ym136n02cybj804wy740000gp/T/ipykernel_11052/208283310.py:7: LangChainDeprecationWarning: The class `Bedrock` was deprecated in LangChain 0.0.34 and will be removed in 1.0. An updated version of the class exists in the :class:`~langchain-aws package and should be used instead. To use it run `pip install -U :class:`~langchain-aws` and import as `from :class:`~langchain_aws import BedrockLLM``.\n",
      "  llm = Bedrock(model_id=MODEL_ID, client=boto3_bedrock)\n"
     ]
    }
   ],
   "source": [
    "# --- CONFIGURATION ---\n",
    "BEDROCK_REGION = \"us-east-1\"\n",
    "MODEL_ID = \"anthropic.claude-v2\"\n",
    "\n",
    "# --- INIT BEDROCK CLIENT ---\n",
    "boto3_bedrock = boto3.client(\"bedrock-runtime\", region_name=BEDROCK_REGION)\n",
    "llm = Bedrock(model_id=MODEL_ID, client=boto3_bedrock)"
   ]
  },
  {
   "cell_type": "code",
   "execution_count": 6,
   "id": "758a4c3f",
   "metadata": {},
   "outputs": [],
   "source": [
    "# --- FUNCTION: Load PDF and Extract Text ---\n",
    "def extract_text_from_pdf(pdf_path):\n",
    "    text = \"\"\n",
    "    with open(pdf_path, \"rb\") as f:\n",
    "        reader = PyPDF2.PdfReader(f)\n",
    "        for page in reader.pages:\n",
    "            text += page.extract_text()\n",
    "    return text[:4000]  # Limit token length"
   ]
  },
  {
   "cell_type": "code",
   "execution_count": 17,
   "id": "ed85d628",
   "metadata": {},
   "outputs": [],
   "source": [
    "# --- LOAD PDF ---\n",
    "pdf_path = \"sample1.pdf\"\n",
    "raw_text = extract_text_from_pdf(pdf_path)\n",
    "document = Document(page_content=raw_text)"
   ]
  },
  {
   "cell_type": "code",
   "execution_count": 18,
   "id": "e7aa5c9d",
   "metadata": {},
   "outputs": [],
   "source": [
    "# --- PROMPT TEMPLATE ---\n",
    "prompt_template = \"\"\"Summarize the following content professionally:\n",
    "\n",
    "{text}\n",
    "\n",
    "Summary:\n",
    "\"\"\"\n",
    "prompt = PromptTemplate.from_template(prompt_template)\n",
    "chain = load_summarize_chain(llm, chain_type=\"stuff\", prompt=prompt)"
   ]
  },
  {
   "cell_type": "code",
   "execution_count": 19,
   "id": "6fd1dc21",
   "metadata": {},
   "outputs": [
    {
     "name": "stdout",
     "output_type": "stream",
     "text": [
      "\n",
      "📄 Document Summary:\n",
      "\n",
      " Here is a professional summary of the key points:\n",
      "\n",
      "The article discusses the application programming interface (API) management market and solutions. Gartner defines API management as software to manage, govern, and secure APIs that organizations use to modernize architectures and access systems, services, partners, and data. \n",
      "\n",
      "Key features of API management solutions include:\n",
      "\n",
      "- API portal for discovery and trials\n",
      "- API gateway for runtime management, security, throttling, monitoring\n",
      "- Policy management for enforcement, mediation, limits, throttling, security\n",
      "- Governance for version control, access, publication, operations\n",
      "\n",
      "Additional common capabilities include API design, testing, monitoring, analytics, security, gateway federation, mediation, monetization, and AI. \n",
      "\n",
      "The article evaluates 17 vendors in Gartner's Magic Quadrant for API Management based on their ability to execute and completeness of vision. It notes strengths and weaknesses for Amazon Web Services, a Challenger, including its API Gateway offering and developer portal. The report helps software engineering leaders select the API management vendor most suitable for their needs.\n"
     ]
    }
   ],
   "source": [
    "# --- RUN SUMMARY ---\n",
    "summary = chain.run([document])\n",
    "print(\"\\n📄 Document Summary:\\n\")\n",
    "print(summary)"
   ]
  },
  {
   "cell_type": "markdown",
   "id": "b4780205",
   "metadata": {},
   "source": []
  }
 ],
 "metadata": {
  "kernelspec": {
   "display_name": "Python 3.13.5 ('venv': venv)",
   "language": "python",
   "name": "python3"
  },
  "language_info": {
   "codemirror_mode": {
    "name": "ipython",
    "version": 3
   },
   "file_extension": ".py",
   "mimetype": "text/x-python",
   "name": "python",
   "nbconvert_exporter": "python",
   "pygments_lexer": "ipython3",
   "version": "3.13.5"
  },
  "vscode": {
   "interpreter": {
    "hash": "64cdec12079364b58dc4c88597421376209f1de9f29f2e74fd664094624eab11"
   }
  }
 },
 "nbformat": 4,
 "nbformat_minor": 5
}
