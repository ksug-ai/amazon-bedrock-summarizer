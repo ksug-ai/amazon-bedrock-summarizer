{
 "cells": [
  {
   "cell_type": "markdown",
   "id": "e507fcc7",
   "metadata": {},
   "source": [
    "# 📄 AWS Bedrock + LangChain PDF Summarizer Demo\n",
    "This notebook demonstrates how to summarize a PDF file using Amazon Bedrock with Claude and LangChain."
   ]
  },
  {
   "cell_type": "code",
   "execution_count": null,
   "id": "1c1e31ad",
   "metadata": {},
   "outputs": [],
   "source": [
    "import boto3\n",
    "from langchain.llms.bedrock import Bedrock\n",
    "from langchain.chains.summarize import load_summarize_chain\n",
    "from langchain.prompts import PromptTemplate\n",
    "from langchain.docstore.document import Document\n",
    "import PyPDF2"
   ]
  },
  {
   "cell_type": "code",
   "execution_count": null,
   "id": "758e22af",
   "metadata": {},
   "outputs": [],
   "source": [
    "# --- CONFIGURATION ---\n",
    "BEDROCK_REGION = \"us-east-1\"\n",
    "MODEL_ID = \"anthropic.claude-v2\"\n",
    "\n",
    "# --- INIT BEDROCK CLIENT ---\n",
    "boto3_bedrock = boto3.client(\"bedrock-runtime\", region_name=BEDROCK_REGION)\n",
    "llm = Bedrock(model_id=MODEL_ID, client=boto3_bedrock)"
   ]
  },
  {
   "cell_type": "code",
   "execution_count": null,
   "id": "758a4c3f",
   "metadata": {},
   "outputs": [],
   "source": [
    "# --- FUNCTION: Load PDF and Extract Text ---\n",
    "def extract_text_from_pdf(pdf_path):\n",
    "    text = \"\"\n",
    "    with open(pdf_path, \"rb\") as f:\n",
    "        reader = PyPDF2.PdfReader(f)\n",
    "        for page in reader.pages:\n",
    "            text += page.extract_text()\n",
    "    return text[:4000]  # Limit token length"
   ]
  },
  {
   "cell_type": "code",
   "execution_count": null,
   "id": "ed85d628",
   "metadata": {},
   "outputs": [],
   "source": [
    "# --- LOAD PDF ---\n",
    "pdf_path = \"sample.pdf\"\n",
    "raw_text = extract_text_from_pdf(pdf_path)\n",
    "document = Document(page_content=raw_text)"
   ]
  },
  {
   "cell_type": "code",
   "execution_count": null,
   "id": "e7aa5c9d",
   "metadata": {},
   "outputs": [],
   "source": [
    "# --- PROMPT TEMPLATE ---\n",
    "prompt_template = \"\"\"Summarize the following content professionally:\n",
    "\n",
    "{content}\n",
    "\n",
    "Summary:\n",
    "\"\"\"\n",
    "prompt = PromptTemplate.from_template(prompt_template)\n",
    "chain = load_summarize_chain(llm, chain_type=\"stuff\", prompt=prompt)"
   ]
  },
  {
   "cell_type": "code",
   "execution_count": null,
   "id": "6fd1dc21",
   "metadata": {},
   "outputs": [],
   "source": [
    "# --- RUN SUMMARY ---\n",
    "summary = chain.run([document])\n",
    "print(\"\\n📄 Document Summary:\\n\")\n",
    "print(summary)"
   ]
  }
 ],
 "metadata": {},
 "nbformat": 4,
 "nbformat_minor": 5
}
